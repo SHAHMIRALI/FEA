# Test our models accuracy across our testing set
test = False

if test == True:
    result=[]
    total = 0
    correct = 0

    for emotion in os.listdir(TEST_DIR):

        for filename in os.listdir(os.path.join(TEST_DIR, emotion)):
            path = os.path.join(os.path.join(TEST_DIR,emotion), filename)
            img = kimg.load_img(path, target_size=(48, 48), color_mode="grayscale")

            # models prediction
            prediction = predict_emotion(img, model)
            emotion_str = EMOTION_MAP[prediction[0]]

            #if it matches true label
            if emotion == emotion_str:
                correct+=1

            total += 1

    print("test accuracy: {}".format(correct/total))
